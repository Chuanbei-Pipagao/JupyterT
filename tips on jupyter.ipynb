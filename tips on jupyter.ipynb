{
 "cells": [
  {
   "cell_type": "markdown",
   "metadata": {},
   "source": [
    "$$A^{-1}+B^{-1}=(A+B)^{-1}$$"
   ]
  },
  {
   "cell_type": "markdown",
   "metadata": {},
   "source": [
    "$$\\tilde x = \\sigma (y-x) $$\n",
    "$$\\tilde y = \\rho x - y -xz $$\n",
    "$$\\tilde z = \\beta x - y -xz $$"
   ]
  },
  {
   "cell_type": "code",
   "execution_count": 2,
   "metadata": {},
   "outputs": [],
   "source": [
    "%matplotlib inline\n",
    "import pandas as pd\n",
    "import numpy as np\n",
    "import matplotlib"
   ]
  },
  {
   "cell_type": "markdown",
   "metadata": {},
   "source": [
    "# Little little tips on Jupyter lab\n",
    "\n",
    "-------------------------\n",
    "* [Here is their blog.](\n",
    "https://blog.jupyter.org/jupyterlab-is-ready-for-users-5a6f039b8906)\n",
    "* In their blog there is a link called `Try it with Binder`, you may try jupyterLab first. You will like it.\n",
    "* [Here is the Github.](\n",
    "https://github.com/jupyterlab)\n",
    "\n",
    "\n",
    "\n",
    "## how to install\n",
    "\n",
    "### 1. install anaconda\n",
    "\n",
    "Anaconda is necessary for version controlling and packet supervising for python. First you may want to log into the qsubmit server.\n",
    "* (For mac & windows user) Google the anaconda website, just download and install according to the install wizard.\n",
    "* (For unix user) Since we use qsubmit, execute such command\n",
    "```bash\n",
    "wget https://repo.continuum.io/archive/Anaconda2-4.4.0-Linux-x86_64.sh\n",
    "bash Anaconda2-4.4.0-Linux-x86_64.sh\n",
    "```\n",
    "The installation might be a bit long. Enter yes for each question. And `source` the environment parameter.\n",
    "```bash\n",
    "source ~/.bashrc\n",
    "```\n",
    "Since anaconda is installed, now you can test via:\n",
    "```bash\n",
    "which conda\n",
    "```\n",
    "\n",
    "### 2. install jupyter \n",
    "it is pre-installed in the ancaconda, so don't worry about that.\n",
    "\n",
    "### 3. install jupyter lab\n",
    "enter such commands in terminal\n",
    "```bash\n",
    "conda install -c conda-forge jupyterlab\n",
    "jupyter serverextension enable --py jupyterlab --sys-prefix\n",
    "```\n",
    "\n",
    "### 4. install extensions (Not necessary)\n",
    "you may need nodejs 5+ to install extensions.\n",
    "I may show how to install extensions about jupyterlab/google-drive\n",
    "```bash\n",
    "jupyter labextension install @jupyterlab/google-drive\n",
    "```\n",
    "So that you can fetch your file from jupyterlab UI directly now.\n",
    "\n",
    "## Start\n",
    "* Enter `jupyter lab` directly in your local machine.\n",
    "* If you want start a server in qsub:\n",
    "```bash\n",
    "qrsh -P other\n",
    "jupyter lab --ip:0.0.0.0\n",
    "```\n",
    "and then open a browser and explore $machinename$.isi.edu:8888/lab\n",
    "\n",
    "## d"
   ]
  },
  {
   "cell_type": "code",
   "execution_count": null,
   "metadata": {},
   "outputs": [],
   "source": []
  }
 ],
 "metadata": {
  "kernelspec": {
   "display_name": "Python 2",
   "language": "python",
   "name": "python2"
  },
  "language_info": {
   "codemirror_mode": {
    "name": "ipython",
    "version": 2
   },
   "file_extension": ".py",
   "mimetype": "text/x-python",
   "name": "python",
   "nbconvert_exporter": "python",
   "pygments_lexer": "ipython2",
   "version": "2.7.13"
  }
 },
 "nbformat": 4,
 "nbformat_minor": 2
}
